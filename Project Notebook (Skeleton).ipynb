{
 "cells": [
  {
   "cell_type": "markdown",
   "id": "24cc9da9-ebb2-438c-8da8-34a73b16e4d9",
   "metadata": {
    "tags": []
   },
   "source": [
    "# FaceMask Detection "
   ]
  },
  {
   "cell_type": "code",
   "execution_count": null,
   "id": "1219b6e9-e3ac-4ab8-9d3a-e0d681e0232f",
   "metadata": {},
   "outputs": [],
   "source": []
  },
  {
   "cell_type": "markdown",
   "id": "c3c167d3-1290-449a-be41-e5726dce16a1",
   "metadata": {},
   "source": [
    "# 1. Introduction"
   ]
  },
  {
   "cell_type": "markdown",
   "id": "9f5b35c9-d621-4775-91b2-c4ea5fbbadfb",
   "metadata": {},
   "source": [
    "## 1.1 Problem Statement"
   ]
  },
  {
   "cell_type": "code",
   "execution_count": null,
   "id": "2ec2e163-f870-452d-8628-4fe8cef87979",
   "metadata": {},
   "outputs": [],
   "source": []
  },
  {
   "cell_type": "markdown",
   "id": "949e5805-2d15-4ccf-b0e0-2da539daa3f1",
   "metadata": {},
   "source": [
    "## 1.2 Motivations"
   ]
  },
  {
   "cell_type": "code",
   "execution_count": null,
   "id": "bb57ce43-6528-4521-9b5f-f838f63a21b8",
   "metadata": {},
   "outputs": [],
   "source": []
  },
  {
   "cell_type": "markdown",
   "id": "d3844475-7d00-4afe-8416-a1f5e47ac501",
   "metadata": {},
   "source": [
    "# 2. Data Sources / Preparation of Datasets"
   ]
  },
  {
   "cell_type": "markdown",
   "id": "f8623a7d-15a3-40dd-b5ee-ac3d1bf7693f",
   "metadata": {},
   "source": [
    "## 2.1 Combining Datasets"
   ]
  },
  {
   "cell_type": "code",
   "execution_count": null,
   "id": "394728d1-7ae2-422d-ac9a-ea3abe566514",
   "metadata": {},
   "outputs": [],
   "source": []
  },
  {
   "cell_type": "markdown",
   "id": "a65c03a0-a70f-499b-8bbc-e2dd1b904c43",
   "metadata": {},
   "source": [
    "## 2.2 Creating and Filtering Labels "
   ]
  },
  {
   "cell_type": "code",
   "execution_count": null,
   "id": "bba117d7-c901-4684-8027-79132485795c",
   "metadata": {},
   "outputs": [],
   "source": []
  },
  {
   "cell_type": "markdown",
   "id": "7116eb88-010b-44ca-845e-1b1fe10ed5ab",
   "metadata": {},
   "source": [
    "## 2.3 Validating Final Datasets"
   ]
  },
  {
   "cell_type": "code",
   "execution_count": null,
   "id": "b97b9469-4da0-485c-b164-7e39512e7eb0",
   "metadata": {},
   "outputs": [],
   "source": []
  },
  {
   "cell_type": "markdown",
   "id": "dfb146e9-1143-4215-abe0-ad7e0d97d57a",
   "metadata": {
    "tags": []
   },
   "source": [
    "# 3. Experimentation"
   ]
  },
  {
   "cell_type": "markdown",
   "id": "5920f3f9-c0ec-4a25-b2e5-60c6d4ebf150",
   "metadata": {},
   "source": [
    "## 3.1 RCNN "
   ]
  },
  {
   "cell_type": "code",
   "execution_count": null,
   "id": "7a511534-87a0-48fd-b09d-3fb48fe72ea9",
   "metadata": {},
   "outputs": [],
   "source": []
  },
  {
   "cell_type": "markdown",
   "id": "dc59a234-014c-4d86-8d3c-4084367c0c4f",
   "metadata": {},
   "source": [
    "## 3.2 SSD"
   ]
  },
  {
   "cell_type": "code",
   "execution_count": null,
   "id": "509a720c-7276-406e-978d-210f46228c67",
   "metadata": {},
   "outputs": [],
   "source": []
  },
  {
   "cell_type": "markdown",
   "id": "a8b4a138-c6aa-4c07-a528-996f9115943f",
   "metadata": {},
   "source": [
    "## 3.3 Yolov5"
   ]
  },
  {
   "cell_type": "markdown",
   "id": "f18537a6-2245-4fec-9e98-290cbcf7063c",
   "metadata": {},
   "source": [
    "#### Model Architecture / Explanation"
   ]
  },
  {
   "cell_type": "code",
   "execution_count": null,
   "id": "041aa155-be96-4d1d-a5e6-db0148c9a080",
   "metadata": {},
   "outputs": [],
   "source": []
  },
  {
   "cell_type": "markdown",
   "id": "a86d8dc4-0e31-45f8-9e33-5187c2d165bd",
   "metadata": {},
   "source": [
    "#### Hyper Parameters Tuning"
   ]
  },
  {
   "cell_type": "code",
   "execution_count": null,
   "id": "42a6853e-e748-4782-a36e-86f69abf55a1",
   "metadata": {},
   "outputs": [],
   "source": []
  },
  {
   "cell_type": "markdown",
   "id": "5e2a10f0-ee64-4865-8910-93971c5f2da9",
   "metadata": {},
   "source": [
    "#### Experiment Implementation "
   ]
  },
  {
   "cell_type": "code",
   "execution_count": null,
   "id": "0bb27cf6-db31-4666-abf7-493d47e53c5e",
   "metadata": {},
   "outputs": [],
   "source": []
  },
  {
   "cell_type": "markdown",
   "id": "f30ec4aa-d468-4efc-b65c-b201271a5d06",
   "metadata": {
    "tags": []
   },
   "source": [
    "#### Install environment\n",
    "1. `cd yolov5`\n",
    "2. `conda create -n yolov5 python=3.8`\n",
    "3. `conda activate yolov5`\n",
    "4. `pip install -r requirements.txt`\n",
    "5. `jupyter lab`"
   ]
  },
  {
   "cell_type": "code",
   "execution_count": null,
   "id": "812d6f40-88a2-4ba9-99e1-f4c9018f2965",
   "metadata": {},
   "outputs": [],
   "source": [
    "!cd yolov5"
   ]
  },
  {
   "cell_type": "code",
   "execution_count": null,
   "id": "b65c5193-9246-4580-9d6a-9a0a045a26c5",
   "metadata": {},
   "outputs": [],
   "source": [
    "!python3 train.py"
   ]
  },
  {
   "cell_type": "markdown",
   "id": "e8585c07-de87-4886-a3c2-40319e02abf2",
   "metadata": {},
   "source": [
    "#### Result Analysis"
   ]
  },
  {
   "cell_type": "code",
   "execution_count": null,
   "id": "173e6877-735d-4c18-a82e-5e146674f295",
   "metadata": {},
   "outputs": [],
   "source": []
  },
  {
   "cell_type": "code",
   "execution_count": null,
   "id": "8eb2649e-f713-4586-a844-fec9582c0ac8",
   "metadata": {},
   "outputs": [],
   "source": []
  },
  {
   "cell_type": "markdown",
   "id": "6d3859dd-5897-440d-b1bc-5c27c6878a4d",
   "metadata": {},
   "source": [
    "# 4. Comparision/ Conclusion"
   ]
  },
  {
   "cell_type": "code",
   "execution_count": null,
   "id": "23a78141-2fcc-493b-8516-841ff32801f1",
   "metadata": {},
   "outputs": [],
   "source": []
  }
 ],
 "metadata": {
  "kernelspec": {
   "display_name": "Python 3 (ipykernel)",
   "language": "python",
   "name": "python3"
  },
  "language_info": {
   "codemirror_mode": {
    "name": "ipython",
    "version": 3
   },
   "file_extension": ".py",
   "mimetype": "text/x-python",
   "name": "python",
   "nbconvert_exporter": "python",
   "pygments_lexer": "ipython3",
   "version": "3.8.13"
  }
 },
 "nbformat": 4,
 "nbformat_minor": 5
}
